{
  "nbformat": 4,
  "nbformat_minor": 0,
  "metadata": {
    "colab": {
      "name": "Debate.ipynb",
      "provenance": [],
      "collapsed_sections": [],
      "mount_file_id": "1t5BS24vFN2qR_toWcNw0NzARHwpVoZ-F",
      "authorship_tag": "ABX9TyMwSCo3z7YhKml7GN/CFo1a",
      "include_colab_link": true
    },
    "kernelspec": {
      "name": "python3",
      "display_name": "Python 3"
    }
  },
  "cells": [
    {
      "cell_type": "markdown",
      "metadata": {
        "id": "view-in-github",
        "colab_type": "text"
      },
      "source": [
        "<a href=\"https://colab.research.google.com/github/chitinglow/Debate/blob/main/Debate.ipynb\" target=\"_parent\"><img src=\"https://colab.research.google.com/assets/colab-badge.svg\" alt=\"Open In Colab\"/></a>"
      ]
    },
    {
      "cell_type": "markdown",
      "metadata": {
        "id": "sicPb1Us-5N-"
      },
      "source": [
        "# Twitter Authenticate"
      ]
    },
    {
      "cell_type": "code",
      "metadata": {
        "id": "F0fL4FYR_GUN"
      },
      "source": [
        "import tweepy as tw\n",
        "import numpy as np\n",
        "import pandas as pd\n",
        "from matplotlib import pyplot as plt"
      ],
      "execution_count": null,
      "outputs": []
    },
    {
      "cell_type": "code",
      "metadata": {
        "id": "fuCIo1wP_GQd"
      },
      "source": [
        "consumer_key = 'jYZSNXHSpXOt7vxhzbHL6UyqV'\n",
        "consumer_secret = '1Yt59eUBVXG0BQ8aZ2bX3yFyNYM4YtzlSOM19Ucm2d2dpZAzoU'\n",
        "access_token = '958557552438063106-BUmDPJJqrMznjqSFVSobvaaLVYels45'\n",
        "access_token_secret = 'Vm6D2VvsPqQFJ9JsWUYSezJZjzOtNMsxI3N86G2sbzlTf'"
      ],
      "execution_count": null,
      "outputs": []
    },
    {
      "cell_type": "code",
      "metadata": {
        "id": "D4of79WvAwq7"
      },
      "source": [
        "auth = tw.OAuthHandler(consumer_key, consumer_secret)\n",
        "auth.set_access_token(access_token, access_token_secret)\n",
        "api = tw.API(auth, wait_on_rate_limit=True)"
      ],
      "execution_count": null,
      "outputs": []
    },
    {
      "cell_type": "markdown",
      "metadata": {
        "id": "U1nza53x-5Cr"
      },
      "source": [
        "# Get Tweets"
      ]
    },
    {
      "cell_type": "code",
      "metadata": {
        "id": "Y2rOOqAwBFt5"
      },
      "source": [
        "hashtag = '#presidentialdebate'\n",
        "query = tw.Cursor(api.search, q = hashtag).items(1000)\n",
        "tweets = [{'Tweets':tweet.text, 'Timestamp':tweet.created_at} for tweet in query]\n",
        "print(tweets)"
      ],
      "execution_count": null,
      "outputs": []
    },
    {
      "cell_type": "code",
      "metadata": {
        "id": "G3WKO4eqCOuu",
        "outputId": "f91cbddb-5deb-44bf-b172-1f4194ebd235",
        "colab": {
          "base_uri": "https://localhost:8080/",
          "height": 204
        }
      },
      "source": [
        "df = pd.DataFrame.from_dict(tweets)\n",
        "df.head()"
      ],
      "execution_count": null,
      "outputs": [
        {
          "output_type": "execute_result",
          "data": {
            "text/html": [
              "<div>\n",
              "<style scoped>\n",
              "    .dataframe tbody tr th:only-of-type {\n",
              "        vertical-align: middle;\n",
              "    }\n",
              "\n",
              "    .dataframe tbody tr th {\n",
              "        vertical-align: top;\n",
              "    }\n",
              "\n",
              "    .dataframe thead th {\n",
              "        text-align: right;\n",
              "    }\n",
              "</style>\n",
              "<table border=\"1\" class=\"dataframe\">\n",
              "  <thead>\n",
              "    <tr style=\"text-align: right;\">\n",
              "      <th></th>\n",
              "      <th>Tweets</th>\n",
              "      <th>Timestamp</th>\n",
              "    </tr>\n",
              "  </thead>\n",
              "  <tbody>\n",
              "    <tr>\n",
              "      <th>0</th>\n",
              "      <td>RT @Tedashii: Imagine tuning in to the #debate...</td>\n",
              "      <td>2020-10-10 14:56:15</td>\n",
              "    </tr>\n",
              "    <tr>\n",
              "      <th>1</th>\n",
              "      <td>Joe Biden is running scared. After being compl...</td>\n",
              "      <td>2020-10-10 14:54:42</td>\n",
              "    </tr>\n",
              "    <tr>\n",
              "      <th>2</th>\n",
              "      <td>RT @PaulaReidCBS: Husband: Why can’t the moder...</td>\n",
              "      <td>2020-10-10 14:54:41</td>\n",
              "    </tr>\n",
              "    <tr>\n",
              "      <th>3</th>\n",
              "      <td>RT @jaydiggsmusic: Jay Diggs with his new smas...</td>\n",
              "      <td>2020-10-10 14:52:04</td>\n",
              "    </tr>\n",
              "    <tr>\n",
              "      <th>4</th>\n",
              "      <td>RT @jaydiggsmusic: Jay Diggs with his new smas...</td>\n",
              "      <td>2020-10-10 14:51:02</td>\n",
              "    </tr>\n",
              "  </tbody>\n",
              "</table>\n",
              "</div>"
            ],
            "text/plain": [
              "                                              Tweets           Timestamp\n",
              "0  RT @Tedashii: Imagine tuning in to the #debate... 2020-10-10 14:56:15\n",
              "1  Joe Biden is running scared. After being compl... 2020-10-10 14:54:42\n",
              "2  RT @PaulaReidCBS: Husband: Why can’t the moder... 2020-10-10 14:54:41\n",
              "3  RT @jaydiggsmusic: Jay Diggs with his new smas... 2020-10-10 14:52:04\n",
              "4  RT @jaydiggsmusic: Jay Diggs with his new smas... 2020-10-10 14:51:02"
            ]
          },
          "metadata": {
            "tags": []
          },
          "execution_count": 47
        }
      ]
    },
    {
      "cell_type": "code",
      "metadata": {
        "id": "D2WACItrCa2n"
      },
      "source": [
        "trump_refs = ['DonaldTrump', 'Donald Trump', 'Donald', 'Trump', 'Trump\\'s']\n",
        "biden_refs = ['JoeBiden', 'Joe Biden', 'Joe', 'Biden', 'Biden\\'s']"
      ],
      "execution_count": null,
      "outputs": []
    },
    {
      "cell_type": "code",
      "metadata": {
        "id": "0WMOSetDCxCZ"
      },
      "source": [
        "def identify_subject(tweet, refs):\n",
        "  flag = 0\n",
        "  for ref in refs:\n",
        "    if tweet.find(ref) != -1:\n",
        "      flag = 1\n",
        "    return flag\n",
        "\n",
        "df['Trump'] = df['Tweets'].apply(lambda x: identify_subject(x, trump_refs))\n",
        "df['Biden'] = df['Tweets'].apply(lambda x: identify_subject(x, biden_refs))"
      ],
      "execution_count": null,
      "outputs": []
    },
    {
      "cell_type": "markdown",
      "metadata": {
        "id": "6pckYgMr-47w"
      },
      "source": [
        "# Preprocess"
      ]
    },
    {
      "cell_type": "code",
      "metadata": {
        "id": "YIDMa64ACXec"
      },
      "source": [
        "import nltk\n",
        "from nltk.corpus import stopwords\n",
        "from textblob import Word, TextBlob"
      ],
      "execution_count": null,
      "outputs": []
    },
    {
      "cell_type": "code",
      "metadata": {
        "id": "EOt1zOy5Dipp",
        "outputId": "28531d45-df81-45fd-ffa5-3b65292c9b6f",
        "colab": {
          "base_uri": "https://localhost:8080/",
          "height": 85
        }
      },
      "source": [
        "nltk.download('stopwords')\n",
        "nltk.download('wordnet')\n",
        "stop_words = stopwords.words('english')\n",
        "custom_stopwords = ['RT', '#PresidentialDebate']"
      ],
      "execution_count": null,
      "outputs": [
        {
          "output_type": "stream",
          "text": [
            "[nltk_data] Downloading package stopwords to /root/nltk_data...\n",
            "[nltk_data]   Package stopwords is already up-to-date!\n",
            "[nltk_data] Downloading package wordnet to /root/nltk_data...\n",
            "[nltk_data]   Package wordnet is already up-to-date!\n"
          ],
          "name": "stdout"
        }
      ]
    },
    {
      "cell_type": "code",
      "metadata": {
        "id": "1iPLPFoOD0xj",
        "outputId": "27b56775-ac4f-4796-f622-60d7f3a89e31",
        "colab": {
          "base_uri": "https://localhost:8080/",
          "height": 204
        }
      },
      "source": [
        "def preprocess_tweet(tweet, custom_stopwords):\n",
        "  preprocessed_tweets = tweet\n",
        "  preprocessed_tweets.replace('[^\\w\\s]', '')\n",
        "  preprocessed_tweets = \" \".join(word for word in preprocessed_tweets.split() if word not in stop_words)\n",
        "  preprocessed_tweets = \" \".join(word for word in preprocessed_tweets.split() if word not in custom_stopwords)\n",
        "  preprocessed_tweets = \" \".join(Word(word).lemmatize() for word in preprocessed_tweets.split())\n",
        "  return(preprocessed_tweets)\n",
        "\n",
        "df['Processed Tweet'] = df['Tweets'].apply(lambda x: preprocess_tweet(x, custom_stopwords))\n",
        "df.head()"
      ],
      "execution_count": null,
      "outputs": [
        {
          "output_type": "execute_result",
          "data": {
            "text/html": [
              "<div>\n",
              "<style scoped>\n",
              "    .dataframe tbody tr th:only-of-type {\n",
              "        vertical-align: middle;\n",
              "    }\n",
              "\n",
              "    .dataframe tbody tr th {\n",
              "        vertical-align: top;\n",
              "    }\n",
              "\n",
              "    .dataframe thead th {\n",
              "        text-align: right;\n",
              "    }\n",
              "</style>\n",
              "<table border=\"1\" class=\"dataframe\">\n",
              "  <thead>\n",
              "    <tr style=\"text-align: right;\">\n",
              "      <th></th>\n",
              "      <th>Tweets</th>\n",
              "      <th>Timestamp</th>\n",
              "      <th>Trump</th>\n",
              "      <th>Biden</th>\n",
              "      <th>Processed Tweet</th>\n",
              "    </tr>\n",
              "  </thead>\n",
              "  <tbody>\n",
              "    <tr>\n",
              "      <th>0</th>\n",
              "      <td>RT @Tedashii: Imagine tuning in to the #debate...</td>\n",
              "      <td>2020-10-10 14:56:15</td>\n",
              "      <td>0</td>\n",
              "      <td>0</td>\n",
              "      <td>@Tedashii: Imagine tuning #debates learn think...</td>\n",
              "    </tr>\n",
              "    <tr>\n",
              "      <th>1</th>\n",
              "      <td>Joe Biden is running scared. After being compl...</td>\n",
              "      <td>2020-10-10 14:54:42</td>\n",
              "      <td>0</td>\n",
              "      <td>0</td>\n",
              "      <td>Joe Biden running scared. After completely out...</td>\n",
              "    </tr>\n",
              "    <tr>\n",
              "      <th>2</th>\n",
              "      <td>RT @PaulaReidCBS: Husband: Why can’t the moder...</td>\n",
              "      <td>2020-10-10 14:54:41</td>\n",
              "      <td>0</td>\n",
              "      <td>0</td>\n",
              "      <td>@PaulaReidCBS: Husband: Why can’t moderator cu...</td>\n",
              "    </tr>\n",
              "    <tr>\n",
              "      <th>3</th>\n",
              "      <td>RT @jaydiggsmusic: Jay Diggs with his new smas...</td>\n",
              "      <td>2020-10-10 14:52:04</td>\n",
              "      <td>0</td>\n",
              "      <td>0</td>\n",
              "      <td>@jaydiggsmusic: Jay Diggs new smash hit taking...</td>\n",
              "    </tr>\n",
              "    <tr>\n",
              "      <th>4</th>\n",
              "      <td>RT @jaydiggsmusic: Jay Diggs with his new smas...</td>\n",
              "      <td>2020-10-10 14:51:02</td>\n",
              "      <td>0</td>\n",
              "      <td>0</td>\n",
              "      <td>@jaydiggsmusic: Jay Diggs new smash hit taking...</td>\n",
              "    </tr>\n",
              "  </tbody>\n",
              "</table>\n",
              "</div>"
            ],
            "text/plain": [
              "                                              Tweets  ...                                    Processed Tweet\n",
              "0  RT @Tedashii: Imagine tuning in to the #debate...  ...  @Tedashii: Imagine tuning #debates learn think...\n",
              "1  Joe Biden is running scared. After being compl...  ...  Joe Biden running scared. After completely out...\n",
              "2  RT @PaulaReidCBS: Husband: Why can’t the moder...  ...  @PaulaReidCBS: Husband: Why can’t moderator cu...\n",
              "3  RT @jaydiggsmusic: Jay Diggs with his new smas...  ...  @jaydiggsmusic: Jay Diggs new smash hit taking...\n",
              "4  RT @jaydiggsmusic: Jay Diggs with his new smas...  ...  @jaydiggsmusic: Jay Diggs new smash hit taking...\n",
              "\n",
              "[5 rows x 5 columns]"
            ]
          },
          "metadata": {
            "tags": []
          },
          "execution_count": 52
        }
      ]
    },
    {
      "cell_type": "markdown",
      "metadata": {
        "id": "A3M0LDTv-42b"
      },
      "source": [
        "# Calculate Sentiment"
      ]
    },
    {
      "cell_type": "code",
      "metadata": {
        "id": "qWdxB_BbCvHs",
        "outputId": "35639e11-f464-45ab-84b6-efc859e04375",
        "colab": {
          "base_uri": "https://localhost:8080/",
          "height": 204
        }
      },
      "source": [
        "df['Polarity'] = df['Processed Tweet'].apply(lambda x: TextBlob(x).sentiment[0])\n",
        "df['subjectivity'] = df['Processed Tweet'].apply(lambda x: TextBlob(x).sentiment[1])\n",
        "df.head()"
      ],
      "execution_count": null,
      "outputs": [
        {
          "output_type": "execute_result",
          "data": {
            "text/html": [
              "<div>\n",
              "<style scoped>\n",
              "    .dataframe tbody tr th:only-of-type {\n",
              "        vertical-align: middle;\n",
              "    }\n",
              "\n",
              "    .dataframe tbody tr th {\n",
              "        vertical-align: top;\n",
              "    }\n",
              "\n",
              "    .dataframe thead th {\n",
              "        text-align: right;\n",
              "    }\n",
              "</style>\n",
              "<table border=\"1\" class=\"dataframe\">\n",
              "  <thead>\n",
              "    <tr style=\"text-align: right;\">\n",
              "      <th></th>\n",
              "      <th>Tweets</th>\n",
              "      <th>Timestamp</th>\n",
              "      <th>Trump</th>\n",
              "      <th>Biden</th>\n",
              "      <th>Processed Tweet</th>\n",
              "      <th>Polarity</th>\n",
              "      <th>subjectivity</th>\n",
              "    </tr>\n",
              "  </thead>\n",
              "  <tbody>\n",
              "    <tr>\n",
              "      <th>0</th>\n",
              "      <td>RT @Tedashii: Imagine tuning in to the #debate...</td>\n",
              "      <td>2020-10-10 14:56:15</td>\n",
              "      <td>0</td>\n",
              "      <td>0</td>\n",
              "      <td>@Tedashii: Imagine tuning #debates learn think...</td>\n",
              "      <td>-0.250000</td>\n",
              "      <td>0.900000</td>\n",
              "    </tr>\n",
              "    <tr>\n",
              "      <th>1</th>\n",
              "      <td>Joe Biden is running scared. After being compl...</td>\n",
              "      <td>2020-10-10 14:54:42</td>\n",
              "      <td>0</td>\n",
              "      <td>0</td>\n",
              "      <td>Joe Biden running scared. After completely out...</td>\n",
              "      <td>0.175000</td>\n",
              "      <td>0.366667</td>\n",
              "    </tr>\n",
              "    <tr>\n",
              "      <th>2</th>\n",
              "      <td>RT @PaulaReidCBS: Husband: Why can’t the moder...</td>\n",
              "      <td>2020-10-10 14:54:41</td>\n",
              "      <td>0</td>\n",
              "      <td>0</td>\n",
              "      <td>@PaulaReidCBS: Husband: Why can’t moderator cu...</td>\n",
              "      <td>0.000000</td>\n",
              "      <td>0.000000</td>\n",
              "    </tr>\n",
              "    <tr>\n",
              "      <th>3</th>\n",
              "      <td>RT @jaydiggsmusic: Jay Diggs with his new smas...</td>\n",
              "      <td>2020-10-10 14:52:04</td>\n",
              "      <td>0</td>\n",
              "      <td>0</td>\n",
              "      <td>@jaydiggsmusic: Jay Diggs new smash hit taking...</td>\n",
              "      <td>0.468182</td>\n",
              "      <td>0.677273</td>\n",
              "    </tr>\n",
              "    <tr>\n",
              "      <th>4</th>\n",
              "      <td>RT @jaydiggsmusic: Jay Diggs with his new smas...</td>\n",
              "      <td>2020-10-10 14:51:02</td>\n",
              "      <td>0</td>\n",
              "      <td>0</td>\n",
              "      <td>@jaydiggsmusic: Jay Diggs new smash hit taking...</td>\n",
              "      <td>0.468182</td>\n",
              "      <td>0.677273</td>\n",
              "    </tr>\n",
              "  </tbody>\n",
              "</table>\n",
              "</div>"
            ],
            "text/plain": [
              "                                              Tweets  ... subjectivity\n",
              "0  RT @Tedashii: Imagine tuning in to the #debate...  ...     0.900000\n",
              "1  Joe Biden is running scared. After being compl...  ...     0.366667\n",
              "2  RT @PaulaReidCBS: Husband: Why can’t the moder...  ...     0.000000\n",
              "3  RT @jaydiggsmusic: Jay Diggs with his new smas...  ...     0.677273\n",
              "4  RT @jaydiggsmusic: Jay Diggs with his new smas...  ...     0.677273\n",
              "\n",
              "[5 rows x 7 columns]"
            ]
          },
          "metadata": {
            "tags": []
          },
          "execution_count": 53
        }
      ]
    },
    {
      "cell_type": "code",
      "metadata": {
        "id": "72uenRxaFZm6",
        "outputId": "8f223988-8fc5-4c21-9721-34064667cb2d",
        "colab": {
          "base_uri": "https://localhost:8080/",
          "height": 267
        }
      },
      "source": [
        "display(df[df['Trump']==1][['Trump','Polarity','subjectivity']].groupby('Trump').agg([np.mean, np.max, np.min, np.median]))\n",
        "df[df['Biden']==1][['Biden','Polarity','subjectivity']].groupby('Biden').agg([np.mean, np.max, np.min, np.median])"
      ],
      "execution_count": null,
      "outputs": [
        {
          "output_type": "display_data",
          "data": {
            "text/html": [
              "<div>\n",
              "<style scoped>\n",
              "    .dataframe tbody tr th:only-of-type {\n",
              "        vertical-align: middle;\n",
              "    }\n",
              "\n",
              "    .dataframe tbody tr th {\n",
              "        vertical-align: top;\n",
              "    }\n",
              "\n",
              "    .dataframe thead tr th {\n",
              "        text-align: left;\n",
              "    }\n",
              "\n",
              "    .dataframe thead tr:last-of-type th {\n",
              "        text-align: right;\n",
              "    }\n",
              "</style>\n",
              "<table border=\"1\" class=\"dataframe\">\n",
              "  <thead>\n",
              "    <tr>\n",
              "      <th></th>\n",
              "      <th colspan=\"4\" halign=\"left\">Polarity</th>\n",
              "      <th colspan=\"4\" halign=\"left\">subjectivity</th>\n",
              "    </tr>\n",
              "    <tr>\n",
              "      <th></th>\n",
              "      <th>mean</th>\n",
              "      <th>amax</th>\n",
              "      <th>amin</th>\n",
              "      <th>median</th>\n",
              "      <th>mean</th>\n",
              "      <th>amax</th>\n",
              "      <th>amin</th>\n",
              "      <th>median</th>\n",
              "    </tr>\n",
              "    <tr>\n",
              "      <th>Trump</th>\n",
              "      <th></th>\n",
              "      <th></th>\n",
              "      <th></th>\n",
              "      <th></th>\n",
              "      <th></th>\n",
              "      <th></th>\n",
              "      <th></th>\n",
              "      <th></th>\n",
              "    </tr>\n",
              "  </thead>\n",
              "  <tbody>\n",
              "    <tr>\n",
              "      <th>1</th>\n",
              "      <td>0.022271</td>\n",
              "      <td>0.875</td>\n",
              "      <td>-0.4</td>\n",
              "      <td>0.0</td>\n",
              "      <td>0.098976</td>\n",
              "      <td>0.966667</td>\n",
              "      <td>0.0</td>\n",
              "      <td>0.0</td>\n",
              "    </tr>\n",
              "  </tbody>\n",
              "</table>\n",
              "</div>"
            ],
            "text/plain": [
              "       Polarity                    subjectivity                      \n",
              "           mean   amax amin median         mean      amax amin median\n",
              "Trump                                                                \n",
              "1      0.022271  0.875 -0.4    0.0     0.098976  0.966667  0.0    0.0"
            ]
          },
          "metadata": {
            "tags": []
          }
        },
        {
          "output_type": "execute_result",
          "data": {
            "text/html": [
              "<div>\n",
              "<style scoped>\n",
              "    .dataframe tbody tr th:only-of-type {\n",
              "        vertical-align: middle;\n",
              "    }\n",
              "\n",
              "    .dataframe tbody tr th {\n",
              "        vertical-align: top;\n",
              "    }\n",
              "\n",
              "    .dataframe thead tr th {\n",
              "        text-align: left;\n",
              "    }\n",
              "\n",
              "    .dataframe thead tr:last-of-type th {\n",
              "        text-align: right;\n",
              "    }\n",
              "</style>\n",
              "<table border=\"1\" class=\"dataframe\">\n",
              "  <thead>\n",
              "    <tr>\n",
              "      <th></th>\n",
              "      <th colspan=\"4\" halign=\"left\">Polarity</th>\n",
              "      <th colspan=\"4\" halign=\"left\">subjectivity</th>\n",
              "    </tr>\n",
              "    <tr>\n",
              "      <th></th>\n",
              "      <th>mean</th>\n",
              "      <th>amax</th>\n",
              "      <th>amin</th>\n",
              "      <th>median</th>\n",
              "      <th>mean</th>\n",
              "      <th>amax</th>\n",
              "      <th>amin</th>\n",
              "      <th>median</th>\n",
              "    </tr>\n",
              "    <tr>\n",
              "      <th>Biden</th>\n",
              "      <th></th>\n",
              "      <th></th>\n",
              "      <th></th>\n",
              "      <th></th>\n",
              "      <th></th>\n",
              "      <th></th>\n",
              "      <th></th>\n",
              "      <th></th>\n",
              "    </tr>\n",
              "  </thead>\n",
              "  <tbody>\n",
              "    <tr>\n",
              "      <th>1</th>\n",
              "      <td>0.022934</td>\n",
              "      <td>0.542857</td>\n",
              "      <td>-0.4</td>\n",
              "      <td>0.0</td>\n",
              "      <td>0.085128</td>\n",
              "      <td>0.875</td>\n",
              "      <td>0.0</td>\n",
              "      <td>0.0</td>\n",
              "    </tr>\n",
              "  </tbody>\n",
              "</table>\n",
              "</div>"
            ],
            "text/plain": [
              "       Polarity                       subjectivity                   \n",
              "           mean      amax amin median         mean   amax amin median\n",
              "Biden                                                                \n",
              "1      0.022934  0.542857 -0.4    0.0     0.085128  0.875  0.0    0.0"
            ]
          },
          "metadata": {
            "tags": []
          },
          "execution_count": 54
        }
      ]
    },
    {
      "cell_type": "markdown",
      "metadata": {
        "id": "W4fKNl74-4wd"
      },
      "source": [
        "# Visualize"
      ]
    },
    {
      "cell_type": "code",
      "metadata": {
        "id": "u2Y-rJ7kF03M"
      },
      "source": [
        "biden = df[df['Biden']==1][['Timestamp', 'Polarity']]\n",
        "biden = biden.sort_values(by='Timestamp', ascending=True)\n",
        "biden['MA Polarity'] = biden.Polarity.rolling(10, min_periods=3).mean()\n",
        "\n",
        "trump = df[df['Trump']==1][['Timestamp', 'Polarity']]\n",
        "trump = trump.sort_values(by='Timestamp', ascending=True)\n",
        "trump['MA Polarity'] = trump.Polarity.rolling(10, min_periods=3).mean()"
      ],
      "execution_count": null,
      "outputs": []
    },
    {
      "cell_type": "code",
      "metadata": {
        "id": "IAMTqXj1F1fm",
        "outputId": "3d605915-ed87-4940-c11e-26117fb55994",
        "colab": {
          "base_uri": "https://localhost:8080/",
          "height": 204
        }
      },
      "source": [
        "trump.head()"
      ],
      "execution_count": null,
      "outputs": [
        {
          "output_type": "execute_result",
          "data": {
            "text/html": [
              "<div>\n",
              "<style scoped>\n",
              "    .dataframe tbody tr th:only-of-type {\n",
              "        vertical-align: middle;\n",
              "    }\n",
              "\n",
              "    .dataframe tbody tr th {\n",
              "        vertical-align: top;\n",
              "    }\n",
              "\n",
              "    .dataframe thead th {\n",
              "        text-align: right;\n",
              "    }\n",
              "</style>\n",
              "<table border=\"1\" class=\"dataframe\">\n",
              "  <thead>\n",
              "    <tr style=\"text-align: right;\">\n",
              "      <th></th>\n",
              "      <th>Timestamp</th>\n",
              "      <th>Polarity</th>\n",
              "      <th>MA Polarity</th>\n",
              "    </tr>\n",
              "  </thead>\n",
              "  <tbody>\n",
              "    <tr>\n",
              "      <th>993</th>\n",
              "      <td>2020-10-09 23:14:02</td>\n",
              "      <td>0.00</td>\n",
              "      <td>NaN</td>\n",
              "    </tr>\n",
              "    <tr>\n",
              "      <th>980</th>\n",
              "      <td>2020-10-09 23:19:17</td>\n",
              "      <td>0.35</td>\n",
              "      <td>NaN</td>\n",
              "    </tr>\n",
              "    <tr>\n",
              "      <th>977</th>\n",
              "      <td>2020-10-09 23:20:01</td>\n",
              "      <td>0.00</td>\n",
              "      <td>0.116667</td>\n",
              "    </tr>\n",
              "    <tr>\n",
              "      <th>966</th>\n",
              "      <td>2020-10-09 23:23:27</td>\n",
              "      <td>-0.40</td>\n",
              "      <td>-0.012500</td>\n",
              "    </tr>\n",
              "    <tr>\n",
              "      <th>953</th>\n",
              "      <td>2020-10-09 23:27:19</td>\n",
              "      <td>0.00</td>\n",
              "      <td>-0.010000</td>\n",
              "    </tr>\n",
              "  </tbody>\n",
              "</table>\n",
              "</div>"
            ],
            "text/plain": [
              "              Timestamp  Polarity  MA Polarity\n",
              "993 2020-10-09 23:14:02      0.00          NaN\n",
              "980 2020-10-09 23:19:17      0.35          NaN\n",
              "977 2020-10-09 23:20:01      0.00     0.116667\n",
              "966 2020-10-09 23:23:27     -0.40    -0.012500\n",
              "953 2020-10-09 23:27:19      0.00    -0.010000"
            ]
          },
          "metadata": {
            "tags": []
          },
          "execution_count": 56
        }
      ]
    },
    {
      "cell_type": "code",
      "metadata": {
        "id": "taiO52AMF1Qx",
        "outputId": "daf2dcb2-6a8d-45e3-e836-f5dbdb1359f1",
        "colab": {
          "base_uri": "https://localhost:8080/",
          "height": 663
        }
      },
      "source": [
        "repub = 'red'\n",
        "demo = 'blue'\n",
        "fig, axes = plt.subplots(2, 1, figsize=(13, 10))\n",
        "\n",
        "axes[0].plot(biden['Timestamp'], biden['MA Polarity'])\n",
        "axes[0].set_title(\"\\n\".join([\"Biden Polarity\"]))\n",
        "axes[1].plot(trump['Timestamp'], trump['MA Polarity'], color='red')\n",
        "axes[1].set_title(\"\\n\".join([\"Trump Polarity\"]))\n",
        "\n",
        "fig.suptitle(\"\\n\".join([\"Presidential Debate Analysis\"]), y=0.98)\n",
        "\n",
        "plt.show()"
      ],
      "execution_count": null,
      "outputs": [
        {
          "output_type": "display_data",
          "data": {
            "image/png": "[encoded data removed]",
            "text/plain": [
              "<Figure size 936x720 with 2 Axes>"
            ]
          },
          "metadata": {
            "tags": [],
            "needs_background": "light"
          }
        }
      ]
    }
  ]
}